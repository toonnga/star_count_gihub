{
 "cells": [
  {
   "cell_type": "code",
   "execution_count": null,
   "id": "99748a60-eed8-4834-aca4-967e9b839fd5",
   "metadata": {},
   "outputs": [],
   "source": [
    "import pandas as pd\n",
    "import requests \n",
    "from datetime import datetime\n",
    "df = pd.DataFrame(columns=['repository_ID', 'repository_name', 'repository_URL', 'created_date', 'number_of_stars'])\n",
    "results = requests.get('https://api.github.com/search/repositories?q=language:python&per_page=50').json()\n",
    "\n",
    "# print(results)\n",
    "\n",
    "for repo in results['items']:\n",
    "        data = {'repository_ID': repo['id'],\n",
    "                'repository_name': repo['name'],\n",
    "                'repository_URL': repo['html_url'],\n",
    "                'created_date': datetime.strptime(repo['created_at'], '%Y-%m-%dT%H:%M:%SZ').date(),\n",
    "                'number_of_stars': repo['stargazers_count']}\n",
    "        df = df.append(data, ignore_index=True)\n",
    "\n",
    "\n",
    "print(df)"
   ]
  }
 ],
 "metadata": {
  "kernelspec": {
   "display_name": "Python 3",
   "language": "python",
   "name": "python3"
  },
  "language_info": {
   "codemirror_mode": {
    "name": "ipython",
    "version": 3
   },
   "file_extension": ".py",
   "mimetype": "text/x-python",
   "name": "python",
   "nbconvert_exporter": "python",
   "pygments_lexer": "ipython3",
   "version": "3.8.8"
  }
 },
 "nbformat": 4,
 "nbformat_minor": 5
}
